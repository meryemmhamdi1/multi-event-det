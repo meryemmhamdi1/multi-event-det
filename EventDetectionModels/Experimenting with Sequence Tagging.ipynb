{
 "cells": [
  {
   "cell_type": "code",
   "execution_count": 1,
   "metadata": {},
   "outputs": [],
   "source": [
    "import numpy as np\n",
    "import os\n",
    "import tensorflow as tf"
   ]
  },
  {
   "cell_type": "markdown",
   "metadata": {},
   "source": [
    "## Variable Placeholders:"
   ]
  },
  {
   "cell_type": "code",
   "execution_count": 2,
   "metadata": {},
   "outputs": [],
   "source": [
    "# shape = (batch size, max length of sentence in batch)\n",
    "word_ids = tf.placeholder(tf.int32, shape=[None, None],\n",
    "                                       name=\"word_ids\")\n",
    "\n",
    "# shape = (batch size)\n",
    "sequence_lengths = tf.placeholder(tf.int32, shape=[None],\n",
    "                                       name=\"sequence_lengths\")\n",
    "\n",
    "# shape = (batch size, max length of sentence, max length of word)\n",
    "char_ids = tf.placeholder(tf.int32, shape=[None, None, None],\n",
    "                               name=\"char_ids\")\n",
    "\n",
    "# shape = (batch_size, max_length of sentence)\n",
    "word_lengths = tf.placeholder(tf.int32, shape=[None, None],\n",
    "                                   name=\"word_lengths\")\n",
    "\n",
    "# shape = (batch size, max length of sentence in batch)\n",
    "labels = tf.placeholder(tf.int32, shape=[None, None],\n",
    "                             name=\"labels\")\n",
    "\n",
    "# hyper parameters\n",
    "dropout = tf.placeholder(dtype=tf.float32, shape=[],\n",
    "                              name=\"dropout\")\n",
    "lr = tf.placeholder(dtype=tf.float32, shape=[],\n",
    "                         name=\"lr\")"
   ]
  },
  {
   "cell_type": "markdown",
   "metadata": {},
   "source": [
    "## Word Embeddings Layers:"
   ]
  },
  {
   "cell_type": "code",
   "execution_count": 3,
   "metadata": {},
   "outputs": [],
   "source": [
    "nwords = 10\n",
    "dim_word = 100\n",
    "with tf.variable_scope(\"words\"):\n",
    "    _word_embeddings = tf.get_variable(\n",
    "        name=\"_word_embeddings\",\n",
    "        dtype=tf.float32,\n",
    "        shape=[nwords, dim_word])\n",
    "\n",
    "    word_embeddings = tf.nn.embedding_lookup(_word_embeddings,\n",
    "                                             word_ids, name=\"word_embeddings\")"
   ]
  },
  {
   "cell_type": "markdown",
   "metadata": {},
   "source": [
    "## Characters Embeddings Layers:"
   ]
  },
  {
   "cell_type": "code",
   "execution_count": 4,
   "metadata": {},
   "outputs": [],
   "source": [
    "nchars = 1000\n",
    "dim_char = 100\n",
    "hidden_size_char = 100\n",
    "# get char embeddings matrix\n",
    "with tf.variable_scope(\"chars\"):\n",
    "    _char_embeddings = tf.get_variable(\n",
    "        name=\"_char_embeddings\",\n",
    "        dtype=tf.float32,\n",
    "        shape=[nchars, dim_char])\n",
    "    char_embeddings = tf.nn.embedding_lookup(_char_embeddings,\n",
    "                                             char_ids, name=\"char_embeddings\")\n",
    "\n",
    "    # put the time dimension on axis=1\n",
    "    s = tf.shape(char_embeddings)\n",
    "    char_embeddings = tf.reshape(char_embeddings,\n",
    "                                 shape=[s[0]*s[1], s[-2], dim_char])\n",
    "    word_lengths = tf.reshape(word_lengths, shape=[s[0]*s[1]])\n",
    "\n",
    "    # bi lstm on chars\n",
    "    cell_fw = tf.contrib.rnn.LSTMCell(hidden_size_char,\n",
    "                                      state_is_tuple=True)\n",
    "    cell_bw = tf.contrib.rnn.LSTMCell(hidden_size_char,\n",
    "                                      state_is_tuple=True)\n",
    "    _output = tf.nn.bidirectional_dynamic_rnn(\n",
    "        cell_fw, cell_bw, char_embeddings,\n",
    "        sequence_length=word_lengths, dtype=tf.float32)\n",
    "    \n",
    "    # read and concat output\n",
    "    _, ((_, output_fw), (_, output_bw)) = _output\n",
    "    output = tf.concat([output_fw, output_bw], axis=-1)\n",
    "    \n",
    "    # shape = (batch size, max sentence length, char hidden size)\n",
    "    output = tf.reshape(output,\n",
    "                        shape=[s[0], s[1], 2*hidden_size_char])\n",
    "    word_embeddings = tf.concat([word_embeddings, output], axis=-1)"
   ]
  },
  {
   "cell_type": "code",
   "execution_count": 5,
   "metadata": {},
   "outputs": [],
   "source": [
    "dropout = 0.5\n",
    "word_embeddings =  tf.nn.dropout(word_embeddings, dropout)"
   ]
  },
  {
   "cell_type": "code",
   "execution_count": 6,
   "metadata": {},
   "outputs": [],
   "source": [
    "hidden_size_lstm = 300 \n",
    "with tf.variable_scope(\"bi-lstm\"):\n",
    "    cell_fw = tf.contrib.rnn.LSTMCell(hidden_size_lstm)\n",
    "    cell_bw = tf.contrib.rnn.LSTMCell(hidden_size_lstm)\n",
    "    (output_fw, output_bw), _ = tf.nn.bidirectional_dynamic_rnn(\n",
    "        cell_fw, cell_bw, word_embeddings,\n",
    "        sequence_length=sequence_lengths, dtype=tf.float32)\n",
    "    output = tf.concat([output_fw, output_bw], axis=-1)\n",
    "    output = tf.nn.dropout(output, dropout)"
   ]
  },
  {
   "cell_type": "code",
   "execution_count": 7,
   "metadata": {},
   "outputs": [],
   "source": [
    "ntags = 20\n",
    "with tf.variable_scope(\"proj\"):\n",
    "    W = tf.get_variable(\"W\", dtype=tf.float32,\n",
    "                        shape=[2*hidden_size_lstm, ntags])\n",
    "\n",
    "    b = tf.get_variable(\"b\", shape=[ntags],\n",
    "                        dtype=tf.float32, initializer=tf.zeros_initializer())\n",
    "\n",
    "    nsteps = tf.shape(output)[1]\n",
    "    output = tf.reshape(output, [-1, 2*hidden_size_lstm])\n",
    "    pred = tf.matmul(output, W) + b\n",
    "    logits = tf.reshape(pred, [-1, nsteps, ntags])"
   ]
  },
  {
   "cell_type": "code",
   "execution_count": 8,
   "metadata": {},
   "outputs": [],
   "source": [
    "log_likelihood, trans_params = tf.contrib.crf.crf_log_likelihood(\n",
    "                logits, labels, sequence_lengths)\n",
    "trans_params = trans_params # need to evaluate it for decoding\n",
    "loss = tf.reduce_mean(-log_likelihood)"
   ]
  },
  {
   "cell_type": "code",
   "execution_count": null,
   "metadata": {},
   "outputs": [],
   "source": []
  }
 ],
 "metadata": {
  "kernelspec": {
   "display_name": "Python 3",
   "language": "python",
   "name": "python3"
  },
  "language_info": {
   "codemirror_mode": {
    "name": "ipython",
    "version": 3
   },
   "file_extension": ".py",
   "mimetype": "text/x-python",
   "name": "python",
   "nbconvert_exporter": "python",
   "pygments_lexer": "ipython3",
   "version": "3.6.8"
  }
 },
 "nbformat": 4,
 "nbformat_minor": 2
}
